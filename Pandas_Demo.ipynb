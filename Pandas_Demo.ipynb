{
  "nbformat": 4,
  "nbformat_minor": 0,
  "metadata": {
    "colab": {
      "provenance": [],
      "authorship_tag": "ABX9TyMrbi/uXUJ3pRHAZt05S83j",
      "include_colab_link": true
    },
    "kernelspec": {
      "name": "python3",
      "display_name": "Python 3"
    },
    "language_info": {
      "name": "python"
    }
  },
  "cells": [
    {
      "cell_type": "markdown",
      "metadata": {
        "id": "view-in-github",
        "colab_type": "text"
      },
      "source": [
        "<a href=\"https://colab.research.google.com/github/leanpina/Pandas_Corey_Shaffer/blob/main/Pandas_Demo.ipynb\" target=\"_parent\"><img src=\"https://colab.research.google.com/assets/colab-badge.svg\" alt=\"Open In Colab\"/></a>"
      ]
    },
    {
      "cell_type": "code",
      "execution_count": 1,
      "metadata": {
        "id": "9HOW18brFvC9"
      },
      "outputs": [],
      "source": [
        "import pandas as pd"
      ]
    },
    {
      "cell_type": "code",
      "source": [
        "from google.colab import drive\n",
        "drive.mount('/content/drive', force_remount=True)"
      ],
      "metadata": {
        "id": "CpgOH6gn32Ii",
        "colab": {
          "base_uri": "https://localhost:8080/"
        },
        "outputId": "529f5573-6728-4179-a882-85da2a766670"
      },
      "execution_count": 2,
      "outputs": [
        {
          "output_type": "stream",
          "name": "stdout",
          "text": [
            "Mounted at /content/drive\n"
          ]
        }
      ]
    },
    {
      "cell_type": "code",
      "source": [
        "!ls \"/content/drive/My Drive/Colab_Notebooks/Pandas_Corey_Schafer/data\""
      ],
      "metadata": {
        "id": "kGrBrbIqGqZ9",
        "colab": {
          "base_uri": "https://localhost:8080/"
        },
        "outputId": "28d2680e-04a7-4947-ddbf-4ba87280f729"
      },
      "execution_count": 3,
      "outputs": [
        {
          "output_type": "stream",
          "name": "stdout",
          "text": [
            "README_2019.txt\t\t\t      survey_results_public.csv\n",
            "so_survey_2019.pdf\t\t      survey_results_schema.csv\n",
            "stack-overflow-developer-survey-2019\n"
          ]
        }
      ]
    },
    {
      "cell_type": "code",
      "source": [
        "df = pd.read_csv('/content/drive/My Drive/Colab_Notebooks/Pandas_Corey_Schafer/data/survey_results_public.csv')\n",
        "schema_df = pd.read_csv('/content/drive/My Drive/Colab_Notebooks/Pandas_Corey_Schafer/data/survey_results_schema.csv')"
      ],
      "metadata": {
        "id": "QWbv77k1JUio"
      },
      "execution_count": 4,
      "outputs": []
    },
    {
      "cell_type": "code",
      "source": [
        "pd.set_option('display.max_columns', 85)\n",
        "pd.set_option('display.max_rows', 85)"
      ],
      "metadata": {
        "id": "xbyNvw57KyRC"
      },
      "execution_count": 5,
      "outputs": []
    },
    {
      "cell_type": "markdown",
      "source": [
        "shape é um atributo (não precisa dos parantêses) que fornece os numero de colunas e linhas de um dataframe."
      ],
      "metadata": {
        "id": "2KLYblWPKJOl"
      }
    },
    {
      "cell_type": "code",
      "source": [
        "df.shape"
      ],
      "metadata": {
        "colab": {
          "base_uri": "https://localhost:8080/"
        },
        "id": "SBEvMtVGJ_Ny",
        "outputId": "190fdb90-529c-4854-dd48-b36a32f3134d"
      },
      "execution_count": 6,
      "outputs": [
        {
          "output_type": "execute_result",
          "data": {
            "text/plain": [
              "(88883, 85)"
            ]
          },
          "metadata": {},
          "execution_count": 6
        }
      ]
    },
    {
      "cell_type": "markdown",
      "source": [
        "\n",
        "O método info fornece maiores detalhes sobre o DataFrame"
      ],
      "metadata": {
        "id": "Pn5hNgKgLC-z"
      }
    },
    {
      "cell_type": "code",
      "source": [
        "df.info()"
      ],
      "metadata": {
        "colab": {
          "base_uri": "https://localhost:8080/"
        },
        "id": "2um0dZ-HKFfj",
        "outputId": "f0ddcb5a-e8ed-499a-c668-7d53ff39728f"
      },
      "execution_count": 7,
      "outputs": [
        {
          "output_type": "stream",
          "name": "stdout",
          "text": [
            "<class 'pandas.core.frame.DataFrame'>\n",
            "RangeIndex: 88883 entries, 0 to 88882\n",
            "Data columns (total 85 columns):\n",
            " #   Column                  Non-Null Count  Dtype  \n",
            "---  ------                  --------------  -----  \n",
            " 0   Respondent              88883 non-null  int64  \n",
            " 1   MainBranch              88331 non-null  object \n",
            " 2   Hobbyist                88883 non-null  object \n",
            " 3   OpenSourcer             88883 non-null  object \n",
            " 4   OpenSource              86842 non-null  object \n",
            " 5   Employment              87181 non-null  object \n",
            " 6   Country                 88751 non-null  object \n",
            " 7   Student                 87014 non-null  object \n",
            " 8   EdLevel                 86390 non-null  object \n",
            " 9   UndergradMajor          75614 non-null  object \n",
            " 10  EduOther                84260 non-null  object \n",
            " 11  OrgSize                 71791 non-null  object \n",
            " 12  DevType                 81335 non-null  object \n",
            " 13  YearsCode               87938 non-null  object \n",
            " 14  Age1stCode              87634 non-null  object \n",
            " 15  YearsCodePro            74331 non-null  object \n",
            " 16  CareerSat               72847 non-null  object \n",
            " 17  JobSat                  70988 non-null  object \n",
            " 18  MgrIdiot                61159 non-null  object \n",
            " 19  MgrMoney                61157 non-null  object \n",
            " 20  MgrWant                 61232 non-null  object \n",
            " 21  JobSeek                 80555 non-null  object \n",
            " 22  LastHireDate            79854 non-null  object \n",
            " 23  LastInt                 67155 non-null  object \n",
            " 24  FizzBuzz                71344 non-null  object \n",
            " 25  JobFactors              79371 non-null  object \n",
            " 26  ResumeUpdate            77877 non-null  object \n",
            " 27  CurrencySymbol          71392 non-null  object \n",
            " 28  CurrencyDesc            71392 non-null  object \n",
            " 29  CompTotal               55945 non-null  float64\n",
            " 30  CompFreq                63268 non-null  object \n",
            " 31  ConvertedComp           55823 non-null  float64\n",
            " 32  WorkWeekHrs             64503 non-null  float64\n",
            " 33  WorkPlan                68914 non-null  object \n",
            " 34  WorkChallenge           68141 non-null  object \n",
            " 35  WorkRemote              70284 non-null  object \n",
            " 36  WorkLoc                 70055 non-null  object \n",
            " 37  ImpSyn                  71779 non-null  object \n",
            " 38  CodeRev                 70390 non-null  object \n",
            " 39  CodeRevHrs              49790 non-null  float64\n",
            " 40  UnitTests               62668 non-null  object \n",
            " 41  PurchaseHow             61108 non-null  object \n",
            " 42  PurchaseWhat            62029 non-null  object \n",
            " 43  LanguageWorkedWith      87569 non-null  object \n",
            " 44  LanguageDesireNextYear  84088 non-null  object \n",
            " 45  DatabaseWorkedWith      76026 non-null  object \n",
            " 46  DatabaseDesireNextYear  69147 non-null  object \n",
            " 47  PlatformWorkedWith      80714 non-null  object \n",
            " 48  PlatformDesireNextYear  77443 non-null  object \n",
            " 49  WebFrameWorkedWith      65022 non-null  object \n",
            " 50  WebFrameDesireNextYear  62944 non-null  object \n",
            " 51  MiscTechWorkedWith      59586 non-null  object \n",
            " 52  MiscTechDesireNextYear  64511 non-null  object \n",
            " 53  DevEnviron              87317 non-null  object \n",
            " 54  OpSys                   87851 non-null  object \n",
            " 55  Containers              85366 non-null  object \n",
            " 56  BlockchainOrg           48175 non-null  object \n",
            " 57  BlockchainIs            60165 non-null  object \n",
            " 58  BetterLife              86269 non-null  object \n",
            " 59  ITperson                87141 non-null  object \n",
            " 60  OffOn                   86663 non-null  object \n",
            " 61  SocialMedia             84437 non-null  object \n",
            " 62  Extraversion            87305 non-null  object \n",
            " 63  ScreenName              80486 non-null  object \n",
            " 64  SOVisit1st              83877 non-null  object \n",
            " 65  SOVisitFreq             88263 non-null  object \n",
            " 66  SOVisitTo               88086 non-null  object \n",
            " 67  SOFindAnswer            87816 non-null  object \n",
            " 68  SOTimeSaved             86344 non-null  object \n",
            " 69  SOHowMuchTime           68378 non-null  object \n",
            " 70  SOAccount               87828 non-null  object \n",
            " 71  SOPartFreq              74692 non-null  object \n",
            " 72  SOJobs                  88066 non-null  object \n",
            " 73  EntTeams                87841 non-null  object \n",
            " 74  SOComm                  88131 non-null  object \n",
            " 75  WelcomeChange           85855 non-null  object \n",
            " 76  SONewContent            69560 non-null  object \n",
            " 77  Age                     79210 non-null  float64\n",
            " 78  Gender                  85406 non-null  object \n",
            " 79  Trans                   83607 non-null  object \n",
            " 80  Sexuality               76147 non-null  object \n",
            " 81  Ethnicity               76668 non-null  object \n",
            " 82  Dependents              83059 non-null  object \n",
            " 83  SurveyLength            86984 non-null  object \n",
            " 84  SurveyEase              87081 non-null  object \n",
            "dtypes: float64(5), int64(1), object(79)\n",
            "memory usage: 57.6+ MB\n"
          ]
        }
      ]
    },
    {
      "cell_type": "markdown",
      "source": [
        "Método para apresentar todas as colunas dos dataframes"
      ],
      "metadata": {
        "id": "ZEhi-0egMYkB"
      }
    },
    {
      "cell_type": "code",
      "source": [
        "schema_df"
      ],
      "metadata": {
        "id": "wZUOX57CNPlC"
      },
      "execution_count": null,
      "outputs": []
    },
    {
      "cell_type": "code",
      "source": [
        "df.head()"
      ],
      "metadata": {
        "id": "kxZdIjSNNRKA"
      },
      "execution_count": null,
      "outputs": []
    },
    {
      "cell_type": "code",
      "source": [
        "df.tail()"
      ],
      "metadata": {
        "id": "YTf_OcRbOSQv"
      },
      "execution_count": null,
      "outputs": []
    },
    {
      "cell_type": "code",
      "source": [
        "df.columns"
      ],
      "metadata": {
        "id": "4oqmqQfFOVNv",
        "outputId": "377ce018-ebc8-47a7-8b77-be2e25a6d1d9",
        "colab": {
          "base_uri": "https://localhost:8080/"
        }
      },
      "execution_count": null,
      "outputs": [
        {
          "output_type": "execute_result",
          "data": {
            "text/plain": [
              "Index(['Respondent', 'MainBranch', 'Hobbyist', 'OpenSourcer', 'OpenSource',\n",
              "       'Employment', 'Country', 'Student', 'EdLevel', 'UndergradMajor',\n",
              "       'EduOther', 'OrgSize', 'DevType', 'YearsCode', 'Age1stCode',\n",
              "       'YearsCodePro', 'CareerSat', 'JobSat', 'MgrIdiot', 'MgrMoney',\n",
              "       'MgrWant', 'JobSeek', 'LastHireDate', 'LastInt', 'FizzBuzz',\n",
              "       'JobFactors', 'ResumeUpdate', 'CurrencySymbol', 'CurrencyDesc',\n",
              "       'CompTotal', 'CompFreq', 'ConvertedComp', 'WorkWeekHrs', 'WorkPlan',\n",
              "       'WorkChallenge', 'WorkRemote', 'WorkLoc', 'ImpSyn', 'CodeRev',\n",
              "       'CodeRevHrs', 'UnitTests', 'PurchaseHow', 'PurchaseWhat',\n",
              "       'LanguageWorkedWith', 'LanguageDesireNextYear', 'DatabaseWorkedWith',\n",
              "       'DatabaseDesireNextYear', 'PlatformWorkedWith',\n",
              "       'PlatformDesireNextYear', 'WebFrameWorkedWith',\n",
              "       'WebFrameDesireNextYear', 'MiscTechWorkedWith',\n",
              "       'MiscTechDesireNextYear', 'DevEnviron', 'OpSys', 'Containers',\n",
              "       'BlockchainOrg', 'BlockchainIs', 'BetterLife', 'ITperson', 'OffOn',\n",
              "       'SocialMedia', 'Extraversion', 'ScreenName', 'SOVisit1st',\n",
              "       'SOVisitFreq', 'SOVisitTo', 'SOFindAnswer', 'SOTimeSaved',\n",
              "       'SOHowMuchTime', 'SOAccount', 'SOPartFreq', 'SOJobs', 'EntTeams',\n",
              "       'SOComm', 'WelcomeChange', 'SONewContent', 'Age', 'Gender', 'Trans',\n",
              "       'Sexuality', 'Ethnicity', 'Dependents', 'SurveyLength', 'SurveyEase'],\n",
              "      dtype='object')"
            ]
          },
          "metadata": {},
          "execution_count": 11
        }
      ]
    },
    {
      "cell_type": "code",
      "source": [
        "df['Hobbyist']"
      ],
      "metadata": {
        "id": "NB1a_ELJciOz",
        "outputId": "7fa8d6bd-b9ee-4acc-fb6f-a4c6d7852a73",
        "colab": {
          "base_uri": "https://localhost:8080/"
        }
      },
      "execution_count": null,
      "outputs": [
        {
          "output_type": "execute_result",
          "data": {
            "text/plain": [
              "0        Yes\n",
              "1         No\n",
              "2        Yes\n",
              "3         No\n",
              "4        Yes\n",
              "        ... \n",
              "88878    Yes\n",
              "88879     No\n",
              "88880     No\n",
              "88881     No\n",
              "88882    Yes\n",
              "Name: Hobbyist, Length: 88883, dtype: object"
            ]
          },
          "metadata": {},
          "execution_count": 12
        }
      ]
    },
    {
      "cell_type": "code",
      "source": [
        "df['Hobbyist'].value_counts()"
      ],
      "metadata": {
        "id": "YTypu2K-cqAS",
        "outputId": "d5bd6102-9818-4ce4-caa5-9816c05ad737",
        "colab": {
          "base_uri": "https://localhost:8080/"
        }
      },
      "execution_count": null,
      "outputs": [
        {
          "output_type": "execute_result",
          "data": {
            "text/plain": [
              "Yes    71257\n",
              "No     17626\n",
              "Name: Hobbyist, dtype: int64"
            ]
          },
          "metadata": {},
          "execution_count": 13
        }
      ]
    },
    {
      "cell_type": "markdown",
      "source": [
        "###Como obter dados de determinadas linhas e colunas ?"
      ],
      "metadata": {
        "id": "oXdMeKznHlwG"
      }
    },
    {
      "cell_type": "code",
      "source": [
        "df.loc[0,'Hobbyist']"
      ],
      "metadata": {
        "id": "LU5MZcutdDpV",
        "outputId": "b71f040b-b041-4f4a-ff78-0863011753b1",
        "colab": {
          "base_uri": "https://localhost:8080/",
          "height": 35
        }
      },
      "execution_count": 11,
      "outputs": [
        {
          "output_type": "execute_result",
          "data": {
            "text/plain": [
              "'Yes'"
            ],
            "application/vnd.google.colaboratory.intrinsic+json": {
              "type": "string"
            }
          },
          "metadata": {},
          "execution_count": 11
        }
      ]
    },
    {
      "cell_type": "code",
      "source": [
        "df.loc[[0,1,2], 'Hobbyist']"
      ],
      "metadata": {
        "id": "iXKqDnZaGJbL",
        "outputId": "581bec51-e6e8-4902-acda-3fb39dbbcecc",
        "colab": {
          "base_uri": "https://localhost:8080/"
        }
      },
      "execution_count": 12,
      "outputs": [
        {
          "output_type": "execute_result",
          "data": {
            "text/plain": [
              "0    Yes\n",
              "1     No\n",
              "2    Yes\n",
              "Name: Hobbyist, dtype: object"
            ]
          },
          "metadata": {},
          "execution_count": 12
        }
      ]
    },
    {
      "cell_type": "markdown",
      "source": [
        "Toda a vez que fizer \"slicing\" não usar colchetes.\n",
        "Reparar que é idêntico a formato da lista, com exceção que o último elemento é inclusivo."
      ],
      "metadata": {
        "id": "yVWKVRKeHYbM"
      }
    },
    {
      "cell_type": "code",
      "source": [
        "df.loc[0:2, 'Hobbyist']"
      ],
      "metadata": {
        "id": "k_2ygL8SHIV3",
        "outputId": "8c6102e0-d209-43c4-e4e4-9acd2d1b02e9",
        "colab": {
          "base_uri": "https://localhost:8080/"
        }
      },
      "execution_count": 13,
      "outputs": [
        {
          "output_type": "execute_result",
          "data": {
            "text/plain": [
              "0    Yes\n",
              "1     No\n",
              "2    Yes\n",
              "Name: Hobbyist, dtype: object"
            ]
          },
          "metadata": {},
          "execution_count": 13
        }
      ]
    },
    {
      "cell_type": "code",
      "source": [
        "df.loc[0:2, 'Hobbyist':'Employment']"
      ],
      "metadata": {
        "id": "fCBcJKNsHPe7",
        "outputId": "138f8efb-0c28-4e28-a1dd-17999c08faff",
        "colab": {
          "base_uri": "https://localhost:8080/",
          "height": 143
        }
      },
      "execution_count": 14,
      "outputs": [
        {
          "output_type": "execute_result",
          "data": {
            "text/plain": [
              "  Hobbyist              OpenSourcer  \\\n",
              "0      Yes                    Never   \n",
              "1       No  Less than once per year   \n",
              "2      Yes                    Never   \n",
              "\n",
              "                                          OpenSource  \\\n",
              "0  The quality of OSS and closed source software ...   \n",
              "1  The quality of OSS and closed source software ...   \n",
              "2  The quality of OSS and closed source software ...   \n",
              "\n",
              "                               Employment  \n",
              "0  Not employed, and not looking for work  \n",
              "1      Not employed, but looking for work  \n",
              "2                      Employed full-time  "
            ],
            "text/html": [
              "\n",
              "  <div id=\"df-20bc2b13-bc4b-4d73-8785-2da699c88d2d\">\n",
              "    <div class=\"colab-df-container\">\n",
              "      <div>\n",
              "<style scoped>\n",
              "    .dataframe tbody tr th:only-of-type {\n",
              "        vertical-align: middle;\n",
              "    }\n",
              "\n",
              "    .dataframe tbody tr th {\n",
              "        vertical-align: top;\n",
              "    }\n",
              "\n",
              "    .dataframe thead th {\n",
              "        text-align: right;\n",
              "    }\n",
              "</style>\n",
              "<table border=\"1\" class=\"dataframe\">\n",
              "  <thead>\n",
              "    <tr style=\"text-align: right;\">\n",
              "      <th></th>\n",
              "      <th>Hobbyist</th>\n",
              "      <th>OpenSourcer</th>\n",
              "      <th>OpenSource</th>\n",
              "      <th>Employment</th>\n",
              "    </tr>\n",
              "  </thead>\n",
              "  <tbody>\n",
              "    <tr>\n",
              "      <th>0</th>\n",
              "      <td>Yes</td>\n",
              "      <td>Never</td>\n",
              "      <td>The quality of OSS and closed source software ...</td>\n",
              "      <td>Not employed, and not looking for work</td>\n",
              "    </tr>\n",
              "    <tr>\n",
              "      <th>1</th>\n",
              "      <td>No</td>\n",
              "      <td>Less than once per year</td>\n",
              "      <td>The quality of OSS and closed source software ...</td>\n",
              "      <td>Not employed, but looking for work</td>\n",
              "    </tr>\n",
              "    <tr>\n",
              "      <th>2</th>\n",
              "      <td>Yes</td>\n",
              "      <td>Never</td>\n",
              "      <td>The quality of OSS and closed source software ...</td>\n",
              "      <td>Employed full-time</td>\n",
              "    </tr>\n",
              "  </tbody>\n",
              "</table>\n",
              "</div>\n",
              "      <button class=\"colab-df-convert\" onclick=\"convertToInteractive('df-20bc2b13-bc4b-4d73-8785-2da699c88d2d')\"\n",
              "              title=\"Convert this dataframe to an interactive table.\"\n",
              "              style=\"display:none;\">\n",
              "        \n",
              "  <svg xmlns=\"http://www.w3.org/2000/svg\" height=\"24px\"viewBox=\"0 0 24 24\"\n",
              "       width=\"24px\">\n",
              "    <path d=\"M0 0h24v24H0V0z\" fill=\"none\"/>\n",
              "    <path d=\"M18.56 5.44l.94 2.06.94-2.06 2.06-.94-2.06-.94-.94-2.06-.94 2.06-2.06.94zm-11 1L8.5 8.5l.94-2.06 2.06-.94-2.06-.94L8.5 2.5l-.94 2.06-2.06.94zm10 10l.94 2.06.94-2.06 2.06-.94-2.06-.94-.94-2.06-.94 2.06-2.06.94z\"/><path d=\"M17.41 7.96l-1.37-1.37c-.4-.4-.92-.59-1.43-.59-.52 0-1.04.2-1.43.59L10.3 9.45l-7.72 7.72c-.78.78-.78 2.05 0 2.83L4 21.41c.39.39.9.59 1.41.59.51 0 1.02-.2 1.41-.59l7.78-7.78 2.81-2.81c.8-.78.8-2.07 0-2.86zM5.41 20L4 18.59l7.72-7.72 1.47 1.35L5.41 20z\"/>\n",
              "  </svg>\n",
              "      </button>\n",
              "      \n",
              "  <style>\n",
              "    .colab-df-container {\n",
              "      display:flex;\n",
              "      flex-wrap:wrap;\n",
              "      gap: 12px;\n",
              "    }\n",
              "\n",
              "    .colab-df-convert {\n",
              "      background-color: #E8F0FE;\n",
              "      border: none;\n",
              "      border-radius: 50%;\n",
              "      cursor: pointer;\n",
              "      display: none;\n",
              "      fill: #1967D2;\n",
              "      height: 32px;\n",
              "      padding: 0 0 0 0;\n",
              "      width: 32px;\n",
              "    }\n",
              "\n",
              "    .colab-df-convert:hover {\n",
              "      background-color: #E2EBFA;\n",
              "      box-shadow: 0px 1px 2px rgba(60, 64, 67, 0.3), 0px 1px 3px 1px rgba(60, 64, 67, 0.15);\n",
              "      fill: #174EA6;\n",
              "    }\n",
              "\n",
              "    [theme=dark] .colab-df-convert {\n",
              "      background-color: #3B4455;\n",
              "      fill: #D2E3FC;\n",
              "    }\n",
              "\n",
              "    [theme=dark] .colab-df-convert:hover {\n",
              "      background-color: #434B5C;\n",
              "      box-shadow: 0px 1px 3px 1px rgba(0, 0, 0, 0.15);\n",
              "      filter: drop-shadow(0px 1px 2px rgba(0, 0, 0, 0.3));\n",
              "      fill: #FFFFFF;\n",
              "    }\n",
              "  </style>\n",
              "\n",
              "      <script>\n",
              "        const buttonEl =\n",
              "          document.querySelector('#df-20bc2b13-bc4b-4d73-8785-2da699c88d2d button.colab-df-convert');\n",
              "        buttonEl.style.display =\n",
              "          google.colab.kernel.accessAllowed ? 'block' : 'none';\n",
              "\n",
              "        async function convertToInteractive(key) {\n",
              "          const element = document.querySelector('#df-20bc2b13-bc4b-4d73-8785-2da699c88d2d');\n",
              "          const dataTable =\n",
              "            await google.colab.kernel.invokeFunction('convertToInteractive',\n",
              "                                                     [key], {});\n",
              "          if (!dataTable) return;\n",
              "\n",
              "          const docLinkHtml = 'Like what you see? Visit the ' +\n",
              "            '<a target=\"_blank\" href=https://colab.research.google.com/notebooks/data_table.ipynb>data table notebook</a>'\n",
              "            + ' to learn more about interactive tables.';\n",
              "          element.innerHTML = '';\n",
              "          dataTable['output_type'] = 'display_data';\n",
              "          await google.colab.output.renderOutput(dataTable, element);\n",
              "          const docLink = document.createElement('div');\n",
              "          docLink.innerHTML = docLinkHtml;\n",
              "          element.appendChild(docLink);\n",
              "        }\n",
              "      </script>\n",
              "    </div>\n",
              "  </div>\n",
              "  "
            ]
          },
          "metadata": {},
          "execution_count": 14
        }
      ]
    },
    {
      "cell_type": "code",
      "source": [],
      "metadata": {
        "id": "6tVMA1OKIJSq"
      },
      "execution_count": null,
      "outputs": []
    }
  ]
}